{
 "cells": [
  {
   "cell_type": "markdown",
   "metadata": {},
   "source": [
    "# New Features in VeRoViz Version 0.4.1\n",
    "\n",
    "Released June 18, 2020\n",
    "\n",
    "- This notebook highlights some of the new functionality enabled in v0.4.1.\n",
    "\n",
    "---"
   ]
  },
  {
   "cell_type": "code",
   "execution_count": 1,
   "metadata": {},
   "outputs": [
    {
     "data": {
      "text/plain": [
       "'Your current installed version of veroviz is 0.4.1, the latest version available is 0.4.0. To update to the latest version, type `pip install --upgrade veroviz` at a command-line prompt.'"
      ]
     },
     "execution_count": 1,
     "metadata": {},
     "output_type": "execute_result"
    }
   ],
   "source": [
    "import veroviz as vrv\n",
    "vrv.checkVersion()"
   ]
  },
  {
   "cell_type": "markdown",
   "metadata": {},
   "source": [
    "#### The examples below require the use of API keys for certain data providers.  \n",
    "\n",
    "If you have saved your API keys as environment variables, you may use `os.environ` to access them:"
   ]
  },
  {
   "cell_type": "code",
   "execution_count": 8,
   "metadata": {},
   "outputs": [],
   "source": [
    "import os\n",
    "\n",
    "ORS_API_KEY     = os.environ['ORSKEY']"
   ]
  },
  {
   "cell_type": "markdown",
   "metadata": {},
   "source": [
    "Otherwise, you may specify your keys here:"
   ]
  },
  {
   "cell_type": "code",
   "execution_count": 6,
   "metadata": {},
   "outputs": [],
   "source": [
    "# ORS_API_KEY     = 'YOUR_ORS_KEY_GOES_HERE'"
   ]
  },
  {
   "cell_type": "markdown",
   "metadata": {},
   "source": [
    "--- \n",
    "\n",
    "## New Global Settings\n",
    "Version 0.4.1 introduces 1 new global setting function:\n",
    "1. `setGlobal()`"
   ]
  },
  {
   "cell_type": "markdown",
   "metadata": {},
   "source": [
    "### 1. `setGlobal()`\n",
    "- This function accepts a dictionary as an input.  The key corresponds to a global VeRoViz setting parameter.  This makes it easier for users to change default values for Leaflet entities and default settings.  All the settings are saved in a dictionary named `config`.  "
   ]
  },
  {
   "cell_type": "code",
   "execution_count": 3,
   "metadata": {},
   "outputs": [
    {
     "data": {
      "text/plain": [
       "{'VRV_DEFAULT_DISTANCE_ERROR_TOLERANCE': 10,\n",
       " 'VRV_DEFAULT_LEAFLET_OBJECT_COLOR_LINE': 'red',\n",
       " 'VRV_DEFAULT_LEAFLET_OBJECT_COLOR_FILL': 'red',\n",
       " 'VRV_DEFAULT_LEAFLET_FONTSIZE': 24,\n",
       " 'VRV_DEFAULT_LEAFLET_FONTCOLOR': 'orange',\n",
       " 'VRV_DEFAULT_LEAFLET_MAPTILES': 'CartoDB positron',\n",
       " 'VRV_DEFAULT_LEAFLETICONPREFIX': 'glyphicon',\n",
       " 'VRV_DEFAULT_LEAFLETICONTYPE': 'info-sign',\n",
       " 'VRV_DEFAULT_LEAFLETICONCOLOR': 'blue',\n",
       " 'VRV_DEFAULT_LEAFLETARCWEIGHT': 3,\n",
       " 'VRV_DEFAULT_LEAFLETARCSTYLE': 'solid',\n",
       " 'VRV_DEFAULT_LEAFLETARCOPACITY': 0.8,\n",
       " 'VRV_DEFAULT_LEAFLETARCCOLOR': 'orange',\n",
       " 'VRV_DEFAULT_LEAFLETBOUNDINGWEIGHT': 3,\n",
       " 'VRV_DEFAULT_LEAFLETBOUNDINGOPACITY': 0.6,\n",
       " 'VRV_DEFAULT_LEAFLETBOUNDINGSTYLE': 'dashed',\n",
       " 'VRV_DEFAULT_LEAFLETBOUNDINGCOLOR': 'brown',\n",
       " 'VRV_DEFAULT_ARCCURVETYPE': 'straight',\n",
       " 'VRV_DEFAULT_ARCCURVATURE': 0,\n",
       " 'VRV_DEFAULT_CESIUMMODELSCALE': 100,\n",
       " 'VRV_DEFAULT_CESIUMMODELMINPXSIZE': 75,\n",
       " 'VRV_DEFAULT_CESIUMICONTYPE': 'pin',\n",
       " 'VRV_DEFAULT_CESIUMICONSIZE': 40,\n",
       " 'VRV_DEFAULT_CESIUMICONCOLOR': 'blue',\n",
       " 'VRV_DEFAULT_CESIUMPATHCOLOR': 'orange',\n",
       " 'VRV_DEFAULT_CESIUMPATHWEIGHT': 3,\n",
       " 'VRV_DEFAULT_CESIUMPATHSTYLE': 'solid',\n",
       " 'VRV_DEFAULT_CESIUMPATHOPACITY': 0.8,\n",
       " 'VRV_DEFAULT_LEAFLET_ARROWSIZE': 6,\n",
       " 'VRV_DEFAULT_GANTTCOLOR': 'darkgray',\n",
       " 'VRV_DEFAULT_GANTTCOLORSERVICE': 'lightgray',\n",
       " 'VRV_DEFAULT_GANTTCOLORLOITER': 'lightgray',\n",
       " 'VRV_SETTING_PGROUTING_USERNAME': 'user',\n",
       " 'VRV_SETTING_PGROUTING_HOST': 'localhost',\n",
       " 'VRV_SETTING_PGROUTING_PASSWORD': '',\n",
       " 'VRV_SETTING_SHOWOUTPUTMESSAGE': True,\n",
       " 'VRV_SETTING_SHOWWARNINGMESSAGE': True}"
      ]
     },
     "execution_count": 3,
     "metadata": {},
     "output_type": "execute_result"
    }
   ],
   "source": [
    "# View all config settings:\n",
    "vrv.config"
   ]
  },
  {
   "cell_type": "code",
   "execution_count": 15,
   "metadata": {},
   "outputs": [
    {
     "data": {
      "text/plain": [
       "True"
      ]
     },
     "execution_count": 15,
     "metadata": {},
     "output_type": "execute_result"
    }
   ],
   "source": [
    "# Warning messages default to be displayed by default:\n",
    "vrv.config['VRV_SETTING_SHOWWARNINGMESSAGE']"
   ]
  },
  {
   "cell_type": "code",
   "execution_count": 14,
   "metadata": {},
   "outputs": [],
   "source": [
    "# The following code demonstrates how to disable VeRoViz warning messages:\n",
    "vrv.setGlobal({'VRV_SETTING_SHOWWARNINGMESSAGE' : False})"
   ]
  },
  {
   "cell_type": "markdown",
   "metadata": {},
   "source": [
    "--- \n",
    "\n",
    "## New Utility Function\n",
    "Version 0.4.1 introduces 1 new \"utility\" function:\n",
    "1. `nearestNodes()`"
   ]
  },
  {
   "cell_type": "markdown",
   "metadata": {},
   "source": [
    "### 1. `nearestNodes()`\n",
    "- Returns a pandas dataframe with 2 columns, 'id' and 'cost'.  The 'id' column represents a nodeID, the 'cost' represents either a time or a distance (consistent with the data provided by costDict).  The dataframe is sorted according to ascending values of 'cost'.  The top k rows are returned (i.e., the nearest k nodes).  "
   ]
  },
  {
   "cell_type": "code",
   "execution_count": 9,
   "metadata": {},
   "outputs": [],
   "source": [
    "# Generate a `Nodes` dataframe from a list of coordinates:\n",
    "locs = [[42.1538, -78.4253], \n",
    "        [42.3465, -78.6234], \n",
    "        [42.6343, -78.1146]]\n",
    "\n",
    "exampleNodes = vrv.createNodesFromLocs(locs = locs)"
   ]
  },
  {
   "cell_type": "code",
   "execution_count": 10,
   "metadata": {},
   "outputs": [
    {
     "data": {
      "text/html": [
       "<div style=\"width:100%;\"><div style=\"position:relative;width:100%;height:0;padding-bottom:60%;\"><iframe src=\"data:text/html;charset=utf-8;base64,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\" style=\"position:absolute;width:100%;height:100%;left:0;top:0;border:none !important;\" allowfullscreen webkitallowfullscreen mozallowfullscreen></iframe></div></div>"
      ],
      "text/plain": [
       "<folium.folium.Map at 0x1198a35c0>"
      ]
     },
     "execution_count": 10,
     "metadata": {},
     "output_type": "execute_result"
    }
   ],
   "source": [
    "# Draw the nodes on a Leaflet map\n",
    "vrv.createLeaflet(nodes      = exampleNodes, \n",
    "                  iconPrefix = 'custom', \n",
    "                  iconType   = '12-white-12')"
   ]
  },
  {
   "cell_type": "code",
   "execution_count": 6,
   "metadata": {},
   "outputs": [
    {
     "data": {
      "text/html": [
       "<div>\n",
       "<style scoped>\n",
       "    .dataframe tbody tr th:only-of-type {\n",
       "        vertical-align: middle;\n",
       "    }\n",
       "\n",
       "    .dataframe tbody tr th {\n",
       "        vertical-align: top;\n",
       "    }\n",
       "\n",
       "    .dataframe thead th {\n",
       "        text-align: right;\n",
       "    }\n",
       "</style>\n",
       "<table border=\"1\" class=\"dataframe\">\n",
       "  <thead>\n",
       "    <tr style=\"text-align: right;\">\n",
       "      <th></th>\n",
       "      <th>cost</th>\n",
       "      <th>id</th>\n",
       "    </tr>\n",
       "  </thead>\n",
       "  <tbody>\n",
       "    <tr>\n",
       "      <th>1</th>\n",
       "      <td>52647.182513</td>\n",
       "      <td>2</td>\n",
       "    </tr>\n",
       "  </tbody>\n",
       "</table>\n",
       "</div>"
      ],
      "text/plain": [
       "           cost  id\n",
       "1  52647.182513   2"
      ]
     },
     "execution_count": 6,
     "metadata": {},
     "output_type": "execute_result"
    }
   ],
   "source": [
    "# Example 1 - Find the k=1 node closest to node 3, according to Euclidean distance\n",
    "vrv.nearestNodes(nodes = exampleNodes, origin = 3, k = 1)    "
   ]
  },
  {
   "cell_type": "code",
   "execution_count": 7,
   "metadata": {},
   "outputs": [
    {
     "data": {
      "text/html": [
       "<div>\n",
       "<style scoped>\n",
       "    .dataframe tbody tr th:only-of-type {\n",
       "        vertical-align: middle;\n",
       "    }\n",
       "\n",
       "    .dataframe tbody tr th {\n",
       "        vertical-align: top;\n",
       "    }\n",
       "\n",
       "    .dataframe thead th {\n",
       "        text-align: right;\n",
       "    }\n",
       "</style>\n",
       "<table border=\"1\" class=\"dataframe\">\n",
       "  <thead>\n",
       "    <tr style=\"text-align: right;\">\n",
       "      <th></th>\n",
       "      <th>cost</th>\n",
       "      <th>id</th>\n",
       "    </tr>\n",
       "  </thead>\n",
       "  <tbody>\n",
       "    <tr>\n",
       "      <th>0</th>\n",
       "      <td>4690.96</td>\n",
       "      <td>1</td>\n",
       "    </tr>\n",
       "    <tr>\n",
       "      <th>2</th>\n",
       "      <td>6614.83</td>\n",
       "      <td>3</td>\n",
       "    </tr>\n",
       "  </tbody>\n",
       "</table>\n",
       "</div>"
      ],
      "text/plain": [
       "      cost  id\n",
       "0  4690.96   1\n",
       "2  6614.83   3"
      ]
     },
     "execution_count": 7,
     "metadata": {},
     "output_type": "execute_result"
    }
   ],
   "source": [
    "# Example 2 - Find the k=2 nodes closest to [42, -78], according to the travel time obtained from ORS-online.  \n",
    "# This example includes all input parameters.\n",
    "vrv.nearestNodes(origin           = [42, -78], \n",
    "                 nodes            = exampleNodes, \n",
    "                 k                = 2, \n",
    "                 costDict         = None, \n",
    "                 metric           = 'time', \n",
    "                 routeType        = 'fastest',\n",
    "                 speedMPS         = None, \n",
    "                 dataProvider     = 'ors-online', \n",
    "                 dataProviderArgs = {'APIkey': ORS_API_KEY})"
   ]
  }
 ],
 "metadata": {
  "kernelspec": {
   "display_name": "Python 3",
   "language": "python",
   "name": "python3"
  },
  "language_info": {
   "codemirror_mode": {
    "name": "ipython",
    "version": 3
   },
   "file_extension": ".py",
   "mimetype": "text/x-python",
   "name": "python",
   "nbconvert_exporter": "python",
   "pygments_lexer": "ipython3",
   "version": "3.7.3"
  }
 },
 "nbformat": 4,
 "nbformat_minor": 2
}
